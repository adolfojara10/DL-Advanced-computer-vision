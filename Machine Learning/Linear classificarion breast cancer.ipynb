{
 "cells": [
  {
   "cell_type": "code",
   "execution_count": 2,
   "metadata": {},
   "outputs": [],
   "source": [
    "import tensorflow as tf \n",
    "from sklearn.datasets import load_breast_cancer"
   ]
  },
  {
   "cell_type": "code",
   "execution_count": 11,
   "metadata": {},
   "outputs": [
    {
     "data": {
      "text/plain": [
       "sklearn.utils.Bunch"
      ]
     },
     "execution_count": 11,
     "metadata": {},
     "output_type": "execute_result"
    }
   ],
   "source": [
    "data = load_breast_cancer()\n",
    "type(data)"
   ]
  },
  {
   "cell_type": "code",
   "execution_count": 12,
   "metadata": {},
   "outputs": [
    {
     "data": {
      "text/plain": [
       "dict_keys(['data', 'target', 'frame', 'target_names', 'DESCR', 'feature_names', 'filename'])"
      ]
     },
     "execution_count": 12,
     "metadata": {},
     "output_type": "execute_result"
    }
   ],
   "source": [
    "data.keys()"
   ]
  },
  {
   "cell_type": "code",
   "execution_count": 13,
   "metadata": {},
   "outputs": [
    {
     "data": {
      "text/plain": [
       "(569, 30)"
      ]
     },
     "execution_count": 13,
     "metadata": {},
     "output_type": "execute_result"
    }
   ],
   "source": [
    "data.data.shape"
   ]
  },
  {
   "cell_type": "code",
   "execution_count": 14,
   "metadata": {},
   "outputs": [
    {
     "data": {
      "text/plain": [
       "array([0, 0, 0, 0, 0, 0, 0, 0, 0, 0, 0, 0, 0, 0, 0, 0, 0, 0, 0, 1, 1, 1,\n",
       "       0, 0, 0, 0, 0, 0, 0, 0, 0, 0, 0, 0, 0, 0, 0, 1, 0, 0, 0, 0, 0, 0,\n",
       "       0, 0, 1, 0, 1, 1, 1, 1, 1, 0, 0, 1, 0, 0, 1, 1, 1, 1, 0, 1, 0, 0,\n",
       "       1, 1, 1, 1, 0, 1, 0, 0, 1, 0, 1, 0, 0, 1, 1, 1, 0, 0, 1, 0, 0, 0,\n",
       "       1, 1, 1, 0, 1, 1, 0, 0, 1, 1, 1, 0, 0, 1, 1, 1, 1, 0, 1, 1, 0, 1,\n",
       "       1, 1, 1, 1, 1, 1, 1, 0, 0, 0, 1, 0, 0, 1, 1, 1, 0, 0, 1, 0, 1, 0,\n",
       "       0, 1, 0, 0, 1, 1, 0, 1, 1, 0, 1, 1, 1, 1, 0, 1, 1, 1, 1, 1, 1, 1,\n",
       "       1, 1, 0, 1, 1, 1, 1, 0, 0, 1, 0, 1, 1, 0, 0, 1, 1, 0, 0, 1, 1, 1,\n",
       "       1, 0, 1, 1, 0, 0, 0, 1, 0, 1, 0, 1, 1, 1, 0, 1, 1, 0, 0, 1, 0, 0,\n",
       "       0, 0, 1, 0, 0, 0, 1, 0, 1, 0, 1, 1, 0, 1, 0, 0, 0, 0, 1, 1, 0, 0,\n",
       "       1, 1, 1, 0, 1, 1, 1, 1, 1, 0, 0, 1, 1, 0, 1, 1, 0, 0, 1, 0, 1, 1,\n",
       "       1, 1, 0, 1, 1, 1, 1, 1, 0, 1, 0, 0, 0, 0, 0, 0, 0, 0, 0, 0, 0, 0,\n",
       "       0, 0, 1, 1, 1, 1, 1, 1, 0, 1, 0, 1, 1, 0, 1, 1, 0, 1, 0, 0, 1, 1,\n",
       "       1, 1, 1, 1, 1, 1, 1, 1, 1, 1, 1, 0, 1, 1, 0, 1, 0, 1, 1, 1, 1, 1,\n",
       "       1, 1, 1, 1, 1, 1, 1, 1, 1, 0, 1, 1, 1, 0, 1, 0, 1, 1, 1, 1, 0, 0,\n",
       "       0, 1, 1, 1, 1, 0, 1, 0, 1, 0, 1, 1, 1, 0, 1, 1, 1, 1, 1, 1, 1, 0,\n",
       "       0, 0, 1, 1, 1, 1, 1, 1, 1, 1, 1, 1, 1, 0, 0, 1, 0, 0, 0, 1, 0, 0,\n",
       "       1, 1, 1, 1, 1, 0, 1, 1, 1, 1, 1, 0, 1, 1, 1, 0, 1, 1, 0, 0, 1, 1,\n",
       "       1, 1, 1, 1, 0, 1, 1, 1, 1, 1, 1, 1, 0, 1, 1, 1, 1, 1, 0, 1, 1, 0,\n",
       "       1, 1, 1, 1, 1, 1, 1, 1, 1, 1, 1, 1, 0, 1, 0, 0, 1, 0, 1, 1, 1, 1,\n",
       "       1, 0, 1, 1, 0, 1, 0, 1, 1, 0, 1, 0, 1, 1, 1, 1, 1, 1, 1, 1, 0, 0,\n",
       "       1, 1, 1, 1, 1, 1, 0, 1, 1, 1, 1, 1, 1, 1, 1, 1, 1, 0, 1, 1, 1, 1,\n",
       "       1, 1, 1, 0, 1, 0, 1, 1, 0, 1, 1, 1, 1, 1, 0, 0, 1, 0, 1, 0, 1, 1,\n",
       "       1, 1, 1, 0, 1, 1, 0, 1, 0, 1, 0, 0, 1, 1, 1, 0, 1, 1, 1, 1, 1, 1,\n",
       "       1, 1, 1, 1, 1, 0, 1, 0, 0, 1, 1, 1, 1, 1, 1, 1, 1, 1, 1, 1, 1, 1,\n",
       "       1, 1, 1, 1, 1, 1, 1, 1, 1, 1, 1, 1, 0, 0, 0, 0, 0, 0, 1])"
      ]
     },
     "execution_count": 14,
     "metadata": {},
     "output_type": "execute_result"
    }
   ],
   "source": [
    "data.target"
   ]
  },
  {
   "cell_type": "code",
   "execution_count": 15,
   "metadata": {},
   "outputs": [
    {
     "data": {
      "text/plain": [
       "array(['malignant', 'benign'], dtype='<U9')"
      ]
     },
     "execution_count": 15,
     "metadata": {},
     "output_type": "execute_result"
    }
   ],
   "source": [
    "data.target_names"
   ]
  },
  {
   "cell_type": "code",
   "execution_count": 16,
   "metadata": {},
   "outputs": [
    {
     "data": {
      "text/plain": [
       "array(['mean radius', 'mean texture', 'mean perimeter', 'mean area',\n",
       "       'mean smoothness', 'mean compactness', 'mean concavity',\n",
       "       'mean concave points', 'mean symmetry', 'mean fractal dimension',\n",
       "       'radius error', 'texture error', 'perimeter error', 'area error',\n",
       "       'smoothness error', 'compactness error', 'concavity error',\n",
       "       'concave points error', 'symmetry error',\n",
       "       'fractal dimension error', 'worst radius', 'worst texture',\n",
       "       'worst perimeter', 'worst area', 'worst smoothness',\n",
       "       'worst compactness', 'worst concavity', 'worst concave points',\n",
       "       'worst symmetry', 'worst fractal dimension'], dtype='<U23')"
      ]
     },
     "execution_count": 16,
     "metadata": {},
     "output_type": "execute_result"
    }
   ],
   "source": [
    "data.feature_names"
   ]
  },
  {
   "cell_type": "markdown",
   "metadata": {},
   "source": [
    "# Split the data"
   ]
  },
  {
   "cell_type": "code",
   "execution_count": 17,
   "metadata": {},
   "outputs": [],
   "source": [
    "from sklearn.model_selection import train_test_split"
   ]
  },
  {
   "cell_type": "code",
   "execution_count": 18,
   "metadata": {},
   "outputs": [
    {
     "name": "stdout",
     "output_type": "stream",
     "text": [
      "381 30\n"
     ]
    }
   ],
   "source": [
    "x_train, x_test, y_train, y_test = train_test_split(data.data, data.target, test_size=0.33)\n",
    "N, D = x_train.shape\n",
    "print(N,D)"
   ]
  },
  {
   "cell_type": "markdown",
   "metadata": {},
   "source": [
    "# Scaler"
   ]
  },
  {
   "cell_type": "code",
   "execution_count": 19,
   "metadata": {},
   "outputs": [],
   "source": [
    "from sklearn.preprocessing import StandardScaler"
   ]
  },
  {
   "cell_type": "code",
   "execution_count": 20,
   "metadata": {},
   "outputs": [],
   "source": [
    "scaler = StandardScaler()\n",
    "x_train = scaler.fit_transform(x_train)\n",
    "x_test = scaler.fit_transform(x_test)"
   ]
  },
  {
   "cell_type": "markdown",
   "metadata": {},
   "source": [
    "# Model"
   ]
  },
  {
   "cell_type": "code",
   "execution_count": 21,
   "metadata": {},
   "outputs": [],
   "source": [
    "model = tf.keras.models.Sequential([\n",
    "    tf.keras.layers.Input(D),\n",
    "    tf.keras.layers.Dense(units=1, activation='sigmoid')       \n",
    "])"
   ]
  },
  {
   "cell_type": "code",
   "execution_count": 22,
   "metadata": {},
   "outputs": [],
   "source": [
    "model.compile(optimizer='adam', loss='binary_crossentropy', metrics=['accuracy'])"
   ]
  },
  {
   "cell_type": "code",
   "execution_count": 23,
   "metadata": {
    "scrolled": false
   },
   "outputs": [
    {
     "name": "stdout",
     "output_type": "stream",
     "text": [
      "Epoch 1/100\n",
      "12/12 [==============================] - 2s 53ms/step - loss: 0.8454 - accuracy: 0.4430 - val_loss: 0.8368 - val_accuracy: 0.4415\n",
      "Epoch 2/100\n",
      "12/12 [==============================] - 0s 20ms/step - loss: 0.7802 - accuracy: 0.5077 - val_loss: 0.7572 - val_accuracy: 0.5000\n",
      "Epoch 3/100\n",
      "12/12 [==============================] - 0s 16ms/step - loss: 0.7120 - accuracy: 0.5480 - val_loss: 0.6880 - val_accuracy: 0.5691\n",
      "Epoch 4/100\n",
      "12/12 [==============================] - 0s 18ms/step - loss: 0.6379 - accuracy: 0.6085 - val_loss: 0.6295 - val_accuracy: 0.6596\n",
      "Epoch 5/100\n",
      "12/12 [==============================] - 0s 16ms/step - loss: 0.5926 - accuracy: 0.6962 - val_loss: 0.5784 - val_accuracy: 0.6915\n",
      "Epoch 6/100\n",
      "12/12 [==============================] - 0s 17ms/step - loss: 0.5413 - accuracy: 0.7432 - val_loss: 0.5356 - val_accuracy: 0.7713\n",
      "Epoch 7/100\n",
      "12/12 [==============================] - 0s 19ms/step - loss: 0.4759 - accuracy: 0.8351 - val_loss: 0.4993 - val_accuracy: 0.7979\n",
      "Epoch 8/100\n",
      "12/12 [==============================] - 0s 17ms/step - loss: 0.4409 - accuracy: 0.8449 - val_loss: 0.4677 - val_accuracy: 0.8138\n",
      "Epoch 9/100\n",
      "12/12 [==============================] - 0s 17ms/step - loss: 0.4252 - accuracy: 0.8544 - val_loss: 0.4401 - val_accuracy: 0.8298\n",
      "Epoch 10/100\n",
      "12/12 [==============================] - 0s 19ms/step - loss: 0.3810 - accuracy: 0.8918 - val_loss: 0.4163 - val_accuracy: 0.8511\n",
      "Epoch 11/100\n",
      "12/12 [==============================] - 0s 18ms/step - loss: 0.3632 - accuracy: 0.8871 - val_loss: 0.3955 - val_accuracy: 0.8830\n",
      "Epoch 12/100\n",
      "12/12 [==============================] - 0s 19ms/step - loss: 0.3699 - accuracy: 0.8834 - val_loss: 0.3765 - val_accuracy: 0.8777\n",
      "Epoch 13/100\n",
      "12/12 [==============================] - 0s 18ms/step - loss: 0.3670 - accuracy: 0.8925 - val_loss: 0.3597 - val_accuracy: 0.8830\n",
      "Epoch 14/100\n",
      "12/12 [==============================] - 0s 18ms/step - loss: 0.3256 - accuracy: 0.9221 - val_loss: 0.3449 - val_accuracy: 0.8830\n",
      "Epoch 15/100\n",
      "12/12 [==============================] - 0s 18ms/step - loss: 0.2874 - accuracy: 0.9232 - val_loss: 0.3319 - val_accuracy: 0.8883\n",
      "Epoch 16/100\n",
      "12/12 [==============================] - 0s 9ms/step - loss: 0.2825 - accuracy: 0.9473 - val_loss: 0.3194 - val_accuracy: 0.8989\n",
      "Epoch 17/100\n",
      "12/12 [==============================] - 0s 15ms/step - loss: 0.3004 - accuracy: 0.9186 - val_loss: 0.3084 - val_accuracy: 0.9043\n",
      "Epoch 18/100\n",
      "12/12 [==============================] - 0s 13ms/step - loss: 0.2726 - accuracy: 0.9387 - val_loss: 0.2982 - val_accuracy: 0.9096\n",
      "Epoch 19/100\n",
      "12/12 [==============================] - 0s 10ms/step - loss: 0.2767 - accuracy: 0.9403 - val_loss: 0.2886 - val_accuracy: 0.9149\n",
      "Epoch 20/100\n",
      "12/12 [==============================] - 0s 11ms/step - loss: 0.2578 - accuracy: 0.9473 - val_loss: 0.2800 - val_accuracy: 0.9202\n",
      "Epoch 21/100\n",
      "12/12 [==============================] - 0s 11ms/step - loss: 0.2425 - accuracy: 0.9500 - val_loss: 0.2719 - val_accuracy: 0.9255\n",
      "Epoch 22/100\n",
      "12/12 [==============================] - 0s 11ms/step - loss: 0.2372 - accuracy: 0.9465 - val_loss: 0.2644 - val_accuracy: 0.9309\n",
      "Epoch 23/100\n",
      "12/12 [==============================] - 0s 10ms/step - loss: 0.2393 - accuracy: 0.9333 - val_loss: 0.2574 - val_accuracy: 0.9362\n",
      "Epoch 24/100\n",
      "12/12 [==============================] - 0s 11ms/step - loss: 0.2304 - accuracy: 0.9387 - val_loss: 0.2509 - val_accuracy: 0.9362\n",
      "Epoch 25/100\n",
      "12/12 [==============================] - 0s 12ms/step - loss: 0.2133 - accuracy: 0.9465 - val_loss: 0.2448 - val_accuracy: 0.9362\n",
      "Epoch 26/100\n",
      "12/12 [==============================] - 0s 10ms/step - loss: 0.2399 - accuracy: 0.9352 - val_loss: 0.2389 - val_accuracy: 0.9362\n",
      "Epoch 27/100\n",
      "12/12 [==============================] - 0s 12ms/step - loss: 0.2192 - accuracy: 0.9372 - val_loss: 0.2335 - val_accuracy: 0.9362\n",
      "Epoch 28/100\n",
      "12/12 [==============================] - 0s 10ms/step - loss: 0.2080 - accuracy: 0.9438 - val_loss: 0.2284 - val_accuracy: 0.9362\n",
      "Epoch 29/100\n",
      "12/12 [==============================] - 0s 11ms/step - loss: 0.1994 - accuracy: 0.9586 - val_loss: 0.2238 - val_accuracy: 0.9362\n",
      "Epoch 30/100\n",
      "12/12 [==============================] - 0s 10ms/step - loss: 0.1839 - accuracy: 0.9524 - val_loss: 0.2192 - val_accuracy: 0.9415\n",
      "Epoch 31/100\n",
      "12/12 [==============================] - 0s 10ms/step - loss: 0.1915 - accuracy: 0.9612 - val_loss: 0.2148 - val_accuracy: 0.9415\n",
      "Epoch 32/100\n",
      "12/12 [==============================] - 0s 11ms/step - loss: 0.1851 - accuracy: 0.9501 - val_loss: 0.2107 - val_accuracy: 0.9415\n",
      "Epoch 33/100\n",
      "12/12 [==============================] - 0s 10ms/step - loss: 0.1807 - accuracy: 0.9549 - val_loss: 0.2070 - val_accuracy: 0.9415\n",
      "Epoch 34/100\n",
      "12/12 [==============================] - 0s 11ms/step - loss: 0.1857 - accuracy: 0.9567 - val_loss: 0.2032 - val_accuracy: 0.9468\n",
      "Epoch 35/100\n",
      "12/12 [==============================] - 0s 12ms/step - loss: 0.1927 - accuracy: 0.9380 - val_loss: 0.1996 - val_accuracy: 0.9468\n",
      "Epoch 36/100\n",
      "12/12 [==============================] - 0s 12ms/step - loss: 0.1832 - accuracy: 0.9474 - val_loss: 0.1964 - val_accuracy: 0.9468\n",
      "Epoch 37/100\n",
      "12/12 [==============================] - 0s 10ms/step - loss: 0.1731 - accuracy: 0.9483 - val_loss: 0.1931 - val_accuracy: 0.9468\n",
      "Epoch 38/100\n",
      "12/12 [==============================] - 0s 10ms/step - loss: 0.1632 - accuracy: 0.9593 - val_loss: 0.1902 - val_accuracy: 0.9468\n",
      "Epoch 39/100\n",
      "12/12 [==============================] - 0s 9ms/step - loss: 0.1706 - accuracy: 0.9559 - val_loss: 0.1873 - val_accuracy: 0.9468\n",
      "Epoch 40/100\n",
      "12/12 [==============================] - 0s 10ms/step - loss: 0.1788 - accuracy: 0.9435 - val_loss: 0.1843 - val_accuracy: 0.9468\n",
      "Epoch 41/100\n",
      "12/12 [==============================] - 0s 10ms/step - loss: 0.1809 - accuracy: 0.9432 - val_loss: 0.1817 - val_accuracy: 0.9468\n",
      "Epoch 42/100\n",
      "12/12 [==============================] - 0s 9ms/step - loss: 0.1715 - accuracy: 0.9453 - val_loss: 0.1790 - val_accuracy: 0.9468\n",
      "Epoch 43/100\n",
      "12/12 [==============================] - 0s 10ms/step - loss: 0.1594 - accuracy: 0.9535 - val_loss: 0.1766 - val_accuracy: 0.9468\n",
      "Epoch 44/100\n",
      "12/12 [==============================] - 0s 9ms/step - loss: 0.1504 - accuracy: 0.9546 - val_loss: 0.1742 - val_accuracy: 0.9468\n",
      "Epoch 45/100\n",
      "12/12 [==============================] - 0s 10ms/step - loss: 0.1664 - accuracy: 0.9539 - val_loss: 0.1719 - val_accuracy: 0.9468\n",
      "Epoch 46/100\n",
      "12/12 [==============================] - 0s 10ms/step - loss: 0.1434 - accuracy: 0.9668 - val_loss: 0.1699 - val_accuracy: 0.9468\n",
      "Epoch 47/100\n",
      "12/12 [==============================] - 0s 10ms/step - loss: 0.1416 - accuracy: 0.9677 - val_loss: 0.1679 - val_accuracy: 0.9468\n",
      "Epoch 48/100\n",
      "12/12 [==============================] - 0s 10ms/step - loss: 0.1359 - accuracy: 0.9731 - val_loss: 0.1659 - val_accuracy: 0.9468\n",
      "Epoch 49/100\n",
      "12/12 [==============================] - 0s 10ms/step - loss: 0.1527 - accuracy: 0.9532 - val_loss: 0.1637 - val_accuracy: 0.9468\n",
      "Epoch 50/100\n",
      "12/12 [==============================] - 0s 9ms/step - loss: 0.1578 - accuracy: 0.9527 - val_loss: 0.1618 - val_accuracy: 0.9468\n",
      "Epoch 51/100\n",
      "12/12 [==============================] - 0s 9ms/step - loss: 0.1442 - accuracy: 0.9678 - val_loss: 0.1601 - val_accuracy: 0.9468\n",
      "Epoch 52/100\n",
      "12/12 [==============================] - 0s 9ms/step - loss: 0.1361 - accuracy: 0.9639 - val_loss: 0.1584 - val_accuracy: 0.9468\n",
      "Epoch 53/100\n",
      "12/12 [==============================] - 0s 10ms/step - loss: 0.1274 - accuracy: 0.9698 - val_loss: 0.1567 - val_accuracy: 0.9468\n",
      "Epoch 54/100\n",
      "12/12 [==============================] - 0s 11ms/step - loss: 0.1363 - accuracy: 0.9692 - val_loss: 0.1550 - val_accuracy: 0.9468\n",
      "Epoch 55/100\n",
      "12/12 [==============================] - 0s 10ms/step - loss: 0.1347 - accuracy: 0.9630 - val_loss: 0.1535 - val_accuracy: 0.9468\n",
      "Epoch 56/100\n",
      "12/12 [==============================] - 0s 10ms/step - loss: 0.1294 - accuracy: 0.9650 - val_loss: 0.1520 - val_accuracy: 0.9468\n",
      "Epoch 57/100\n",
      "12/12 [==============================] - 0s 11ms/step - loss: 0.1402 - accuracy: 0.9738 - val_loss: 0.1506 - val_accuracy: 0.9468\n",
      "Epoch 58/100\n",
      "12/12 [==============================] - 0s 9ms/step - loss: 0.1316 - accuracy: 0.9673 - val_loss: 0.1492 - val_accuracy: 0.9468\n",
      "Epoch 59/100\n",
      "12/12 [==============================] - 0s 12ms/step - loss: 0.1151 - accuracy: 0.9740 - val_loss: 0.1478 - val_accuracy: 0.9468\n",
      "Epoch 60/100\n",
      "12/12 [==============================] - 0s 9ms/step - loss: 0.1176 - accuracy: 0.9672 - val_loss: 0.1465 - val_accuracy: 0.9468\n",
      "Epoch 61/100\n",
      "12/12 [==============================] - 0s 9ms/step - loss: 0.1274 - accuracy: 0.9654 - val_loss: 0.1451 - val_accuracy: 0.9468\n",
      "Epoch 62/100\n",
      "12/12 [==============================] - 0s 9ms/step - loss: 0.1334 - accuracy: 0.9615 - val_loss: 0.1438 - val_accuracy: 0.9468\n",
      "Epoch 63/100\n",
      "12/12 [==============================] - 0s 9ms/step - loss: 0.1139 - accuracy: 0.9790 - val_loss: 0.1426 - val_accuracy: 0.9468\n",
      "Epoch 64/100\n",
      "12/12 [==============================] - 0s 10ms/step - loss: 0.1237 - accuracy: 0.9673 - val_loss: 0.1415 - val_accuracy: 0.9468\n",
      "Epoch 65/100\n",
      "12/12 [==============================] - 0s 9ms/step - loss: 0.1104 - accuracy: 0.9728 - val_loss: 0.1404 - val_accuracy: 0.9468\n",
      "Epoch 66/100\n",
      "12/12 [==============================] - 0s 9ms/step - loss: 0.1158 - accuracy: 0.9688 - val_loss: 0.1393 - val_accuracy: 0.9521\n",
      "Epoch 67/100\n",
      "12/12 [==============================] - 0s 10ms/step - loss: 0.1150 - accuracy: 0.9685 - val_loss: 0.1382 - val_accuracy: 0.9521\n",
      "Epoch 68/100\n",
      "12/12 [==============================] - 0s 9ms/step - loss: 0.1090 - accuracy: 0.9815 - val_loss: 0.1372 - val_accuracy: 0.9521\n",
      "Epoch 69/100\n",
      "12/12 [==============================] - 0s 9ms/step - loss: 0.1223 - accuracy: 0.9594 - val_loss: 0.1361 - val_accuracy: 0.9521\n",
      "Epoch 70/100\n",
      "12/12 [==============================] - 0s 9ms/step - loss: 0.1100 - accuracy: 0.9792 - val_loss: 0.1352 - val_accuracy: 0.9468\n",
      "Epoch 71/100\n",
      "12/12 [==============================] - 0s 9ms/step - loss: 0.1209 - accuracy: 0.9772 - val_loss: 0.1343 - val_accuracy: 0.9468\n",
      "Epoch 72/100\n",
      "12/12 [==============================] - 0s 9ms/step - loss: 0.1244 - accuracy: 0.9653 - val_loss: 0.1333 - val_accuracy: 0.9468\n",
      "Epoch 73/100\n",
      "12/12 [==============================] - 0s 9ms/step - loss: 0.1067 - accuracy: 0.9748 - val_loss: 0.1324 - val_accuracy: 0.9521\n",
      "Epoch 74/100\n",
      "12/12 [==============================] - 0s 9ms/step - loss: 0.1002 - accuracy: 0.9776 - val_loss: 0.1315 - val_accuracy: 0.9521\n",
      "Epoch 75/100\n",
      "12/12 [==============================] - 0s 9ms/step - loss: 0.1123 - accuracy: 0.9698 - val_loss: 0.1307 - val_accuracy: 0.9521\n",
      "Epoch 76/100\n",
      "12/12 [==============================] - 0s 9ms/step - loss: 0.1156 - accuracy: 0.9693 - val_loss: 0.1298 - val_accuracy: 0.9521\n",
      "Epoch 77/100\n",
      "12/12 [==============================] - 0s 9ms/step - loss: 0.1170 - accuracy: 0.9685 - val_loss: 0.1290 - val_accuracy: 0.9521\n",
      "Epoch 78/100\n",
      "12/12 [==============================] - 0s 9ms/step - loss: 0.1046 - accuracy: 0.9673 - val_loss: 0.1282 - val_accuracy: 0.9574\n",
      "Epoch 79/100\n",
      "12/12 [==============================] - 0s 9ms/step - loss: 0.1363 - accuracy: 0.9575 - val_loss: 0.1275 - val_accuracy: 0.9574\n",
      "Epoch 80/100\n",
      "12/12 [==============================] - 0s 8ms/step - loss: 0.1028 - accuracy: 0.9744 - val_loss: 0.1268 - val_accuracy: 0.9574\n",
      "Epoch 81/100\n",
      "12/12 [==============================] - 0s 11ms/step - loss: 0.0963 - accuracy: 0.9768 - val_loss: 0.1261 - val_accuracy: 0.9574\n",
      "Epoch 82/100\n",
      "12/12 [==============================] - 0s 10ms/step - loss: 0.0972 - accuracy: 0.9806 - val_loss: 0.1254 - val_accuracy: 0.9574\n",
      "Epoch 83/100\n",
      "12/12 [==============================] - 0s 8ms/step - loss: 0.1028 - accuracy: 0.9737 - val_loss: 0.1246 - val_accuracy: 0.9574\n",
      "Epoch 84/100\n",
      "12/12 [==============================] - 0s 10ms/step - loss: 0.1151 - accuracy: 0.9617 - val_loss: 0.1239 - val_accuracy: 0.9574\n",
      "Epoch 85/100\n",
      "12/12 [==============================] - 0s 9ms/step - loss: 0.1072 - accuracy: 0.9680 - val_loss: 0.1232 - val_accuracy: 0.9574\n",
      "Epoch 86/100\n",
      "12/12 [==============================] - 0s 9ms/step - loss: 0.1090 - accuracy: 0.9798 - val_loss: 0.1226 - val_accuracy: 0.9574\n",
      "Epoch 87/100\n",
      "12/12 [==============================] - 0s 10ms/step - loss: 0.0935 - accuracy: 0.9778 - val_loss: 0.1220 - val_accuracy: 0.9574\n",
      "Epoch 88/100\n",
      "12/12 [==============================] - 0s 9ms/step - loss: 0.0873 - accuracy: 0.9844 - val_loss: 0.1214 - val_accuracy: 0.9574\n",
      "Epoch 89/100\n",
      "12/12 [==============================] - 0s 9ms/step - loss: 0.1018 - accuracy: 0.9689 - val_loss: 0.1207 - val_accuracy: 0.9574\n",
      "Epoch 90/100\n",
      "12/12 [==============================] - 0s 10ms/step - loss: 0.1079 - accuracy: 0.9741 - val_loss: 0.1201 - val_accuracy: 0.9574\n",
      "Epoch 91/100\n",
      "12/12 [==============================] - 0s 9ms/step - loss: 0.0916 - accuracy: 0.9767 - val_loss: 0.1195 - val_accuracy: 0.9574\n",
      "Epoch 92/100\n",
      "12/12 [==============================] - 0s 10ms/step - loss: 0.0896 - accuracy: 0.9710 - val_loss: 0.1190 - val_accuracy: 0.9574\n",
      "Epoch 93/100\n",
      "12/12 [==============================] - 0s 10ms/step - loss: 0.1016 - accuracy: 0.9716 - val_loss: 0.1184 - val_accuracy: 0.9574\n",
      "Epoch 94/100\n",
      "12/12 [==============================] - 0s 9ms/step - loss: 0.0924 - accuracy: 0.9754 - val_loss: 0.1179 - val_accuracy: 0.9574\n",
      "Epoch 95/100\n",
      "12/12 [==============================] - 0s 10ms/step - loss: 0.1029 - accuracy: 0.9779 - val_loss: 0.1173 - val_accuracy: 0.9574\n",
      "Epoch 96/100\n",
      "12/12 [==============================] - 0s 10ms/step - loss: 0.0884 - accuracy: 0.9760 - val_loss: 0.1169 - val_accuracy: 0.9628\n",
      "Epoch 97/100\n",
      "12/12 [==============================] - 0s 10ms/step - loss: 0.0888 - accuracy: 0.9792 - val_loss: 0.1163 - val_accuracy: 0.9628\n",
      "Epoch 98/100\n",
      "12/12 [==============================] - 0s 11ms/step - loss: 0.0802 - accuracy: 0.9852 - val_loss: 0.1158 - val_accuracy: 0.9628\n",
      "Epoch 99/100\n",
      "12/12 [==============================] - 0s 10ms/step - loss: 0.1024 - accuracy: 0.9733 - val_loss: 0.1154 - val_accuracy: 0.9628\n",
      "Epoch 100/100\n",
      "12/12 [==============================] - 0s 10ms/step - loss: 0.0934 - accuracy: 0.9765 - val_loss: 0.1148 - val_accuracy: 0.9628\n"
     ]
    }
   ],
   "source": [
    "results = model.fit(x=x_train, y=y_train, validation_data=(x_test, y_test), epochs=100)"
   ]
  },
  {
   "cell_type": "markdown",
   "metadata": {},
   "source": [
    "# Plotting the results"
   ]
  },
  {
   "cell_type": "code",
   "execution_count": 25,
   "metadata": {},
   "outputs": [],
   "source": [
    "import matplotlib.pyplot as plt"
   ]
  },
  {
   "cell_type": "code",
   "execution_count": 28,
   "metadata": {},
   "outputs": [
    {
     "data": {
      "image/png": "[encoded data removed]",
      "text/plain": [
       "<Figure size 432x288 with 1 Axes>"
      ]
     },
     "metadata": {
      "needs_background": "light"
     },
     "output_type": "display_data"
    },
    {
     "data": {
      "image/png": "[encoded data removed]",
      "text/plain": [
       "<Figure size 432x288 with 1 Axes>"
      ]
     },
     "metadata": {
      "needs_background": "light"
     },
     "output_type": "display_data"
    }
   ],
   "source": [
    "plt.figure(0)\n",
    "plt.title('Loss')\n",
    "plt.plot(results.history['loss'], label='loss')\n",
    "plt.plot(results.history['val_loss'], label='val_loss')\n",
    "plt.legend()\n",
    "plt.show()\n",
    "\n",
    "plt.figure(1)\n",
    "plt.title('Accuracy')\n",
    "plt.plot(results.history['accuracy'], label='accuracy')\n",
    "plt.plot(results.history['val_accuracy'], label='val_accuracy')\n",
    "plt.legend()\n",
    "plt.show()"
   ]
  },
  {
   "cell_type": "markdown",
   "metadata": {},
   "source": [
    "# Test the model"
   ]
  },
  {
   "cell_type": "code",
   "execution_count": 32,
   "metadata": {},
   "outputs": [
    {
     "name": "stdout",
     "output_type": "stream",
     "text": [
      "6/6 [==============================] - 0s 2ms/step - loss: 0.1148 - accuracy: 0.9628\n",
      "Test score:  0.9627659320831299\n"
     ]
    }
   ],
   "source": [
    "test = model.evaluate(x=x_test, y=y_test)\n",
    "print('Test score: ', test[1])"
   ]
  },
  {
   "cell_type": "markdown",
   "metadata": {},
   "source": [
    "# Making predictions"
   ]
  },
  {
   "cell_type": "code",
   "execution_count": 38,
   "metadata": {},
   "outputs": [
    {
     "data": {
      "text/plain": [
       "array([[5.74516866e-12],\n",
       "       [6.28961623e-02],\n",
       "       [8.53613734e-01],\n",
       "       [9.48000968e-01],\n",
       "       [9.29169774e-01],\n",
       "       [8.69788527e-02],\n",
       "       [9.88964677e-01],\n",
       "       [9.79951024e-01],\n",
       "       [9.79839206e-01],\n",
       "       [9.87538517e-01],\n",
       "       [9.89062488e-01],\n",
       "       [3.53914499e-03],\n",
       "       [9.97803986e-01],\n",
       "       [8.92862678e-01],\n",
       "       [8.39170694e-01],\n",
       "       [7.61285722e-02],\n",
       "       [9.84673142e-01],\n",
       "       [9.70024467e-01],\n",
       "       [1.97281241e-01],\n",
       "       [2.20775604e-04],\n",
       "       [9.93553162e-01],\n",
       "       [9.15955126e-01],\n",
       "       [9.99706626e-01],\n",
       "       [1.05975360e-01],\n",
       "       [5.12868702e-01],\n",
       "       [8.07608783e-01],\n",
       "       [9.97361064e-01],\n",
       "       [9.99586940e-01],\n",
       "       [1.34031177e-02],\n",
       "       [9.89862502e-01],\n",
       "       [9.66057777e-01],\n",
       "       [9.82035875e-01],\n",
       "       [9.57861662e-01],\n",
       "       [4.09229551e-06],\n",
       "       [9.76749361e-01],\n",
       "       [9.99264956e-01],\n",
       "       [9.94013429e-01],\n",
       "       [9.79764700e-01],\n",
       "       [1.09129542e-05],\n",
       "       [1.81156397e-03],\n",
       "       [2.23029292e-05],\n",
       "       [1.08164847e-02],\n",
       "       [9.74760175e-01],\n",
       "       [9.81388211e-01],\n",
       "       [9.51359093e-01],\n",
       "       [9.97060955e-01],\n",
       "       [6.42628431e-01],\n",
       "       [8.43539834e-03],\n",
       "       [2.18067169e-01],\n",
       "       [9.91546690e-01],\n",
       "       [3.16095173e-01],\n",
       "       [1.69798313e-05],\n",
       "       [9.76588249e-01],\n",
       "       [2.16761261e-01],\n",
       "       [4.54692453e-01],\n",
       "       [7.17958927e-01],\n",
       "       [9.97760236e-01],\n",
       "       [9.26531315e-01],\n",
       "       [4.44382429e-04],\n",
       "       [9.73911762e-01],\n",
       "       [9.96811867e-01],\n",
       "       [7.98321980e-06],\n",
       "       [9.88670707e-01],\n",
       "       [9.92621660e-01],\n",
       "       [9.89357233e-01],\n",
       "       [5.91705322e-01],\n",
       "       [9.17369485e-01],\n",
       "       [9.10829365e-01],\n",
       "       [9.99589682e-01],\n",
       "       [9.92950380e-01],\n",
       "       [9.56793845e-01],\n",
       "       [2.35387266e-01],\n",
       "       [9.88303542e-01],\n",
       "       [9.93187428e-01],\n",
       "       [2.06914544e-01],\n",
       "       [8.75370315e-05],\n",
       "       [6.98275864e-02],\n",
       "       [3.91161144e-02],\n",
       "       [5.44773936e-02],\n",
       "       [1.33786370e-05],\n",
       "       [5.28922677e-02],\n",
       "       [9.84487891e-01],\n",
       "       [2.77930498e-03],\n",
       "       [9.97370481e-01],\n",
       "       [8.13999891e-01],\n",
       "       [9.97481883e-01],\n",
       "       [2.12135201e-05],\n",
       "       [9.63093698e-01],\n",
       "       [9.91260469e-01],\n",
       "       [4.04060036e-01],\n",
       "       [1.12313835e-04],\n",
       "       [9.98078346e-01],\n",
       "       [9.79752123e-01],\n",
       "       [8.58273745e-01],\n",
       "       [9.94763136e-01],\n",
       "       [1.04186922e-01],\n",
       "       [9.89453971e-01],\n",
       "       [9.53423977e-03],\n",
       "       [9.25530314e-01],\n",
       "       [7.01907277e-03],\n",
       "       [9.67029989e-01],\n",
       "       [8.71873796e-02],\n",
       "       [9.93186057e-01],\n",
       "       [2.20057666e-02],\n",
       "       [8.40722123e-08],\n",
       "       [9.92635727e-01],\n",
       "       [9.99495506e-01],\n",
       "       [9.98297334e-01],\n",
       "       [4.73880768e-02],\n",
       "       [8.22413862e-02],\n",
       "       [8.42984617e-02],\n",
       "       [9.88505602e-01],\n",
       "       [9.85934615e-01],\n",
       "       [9.48420525e-01],\n",
       "       [3.89361382e-03],\n",
       "       [3.72013450e-03],\n",
       "       [9.70989466e-04],\n",
       "       [9.80296135e-01],\n",
       "       [9.69864786e-01],\n",
       "       [9.35662925e-01],\n",
       "       [9.52094674e-01],\n",
       "       [9.95283902e-01],\n",
       "       [4.98042107e-02],\n",
       "       [8.28673363e-01],\n",
       "       [5.45620620e-01],\n",
       "       [6.42338395e-03],\n",
       "       [9.41082478e-01],\n",
       "       [1.66375339e-02],\n",
       "       [7.30058551e-02],\n",
       "       [9.96476293e-01],\n",
       "       [7.23636150e-03],\n",
       "       [8.42928410e-01],\n",
       "       [9.81107712e-01],\n",
       "       [2.10288167e-02],\n",
       "       [9.70161796e-01],\n",
       "       [4.93649572e-01],\n",
       "       [9.47683036e-01],\n",
       "       [9.66816545e-01],\n",
       "       [9.97325540e-01],\n",
       "       [9.98059511e-01],\n",
       "       [9.96319890e-01],\n",
       "       [2.58922577e-04],\n",
       "       [9.91413116e-01],\n",
       "       [9.78535175e-01],\n",
       "       [2.71141529e-04],\n",
       "       [8.65612805e-01],\n",
       "       [9.91914332e-01],\n",
       "       [5.00945807e-01],\n",
       "       [9.72779572e-01],\n",
       "       [2.37987339e-02],\n",
       "       [9.18403387e-01],\n",
       "       [4.64323163e-03],\n",
       "       [8.37546766e-01],\n",
       "       [9.88876462e-01],\n",
       "       [9.73566055e-01],\n",
       "       [9.83114779e-01],\n",
       "       [9.98933554e-01],\n",
       "       [9.78768706e-01],\n",
       "       [9.95306253e-01],\n",
       "       [3.13695967e-02],\n",
       "       [4.40818071e-03],\n",
       "       [9.94209051e-01],\n",
       "       [9.69747186e-01],\n",
       "       [7.08222628e-01],\n",
       "       [9.93670702e-01],\n",
       "       [2.53248215e-01],\n",
       "       [2.38341391e-02],\n",
       "       [2.02499032e-02],\n",
       "       [3.78319621e-02],\n",
       "       [7.03386307e-01],\n",
       "       [2.06009209e-01],\n",
       "       [9.99072850e-01],\n",
       "       [9.89605904e-01],\n",
       "       [3.26334834e-02],\n",
       "       [4.90039587e-04],\n",
       "       [9.72257018e-01],\n",
       "       [1.61382079e-01],\n",
       "       [1.62076950e-03],\n",
       "       [7.57773817e-01],\n",
       "       [9.74824667e-01],\n",
       "       [9.89699185e-01],\n",
       "       [9.84519958e-01],\n",
       "       [3.45389672e-09],\n",
       "       [9.59076643e-01],\n",
       "       [6.53919697e-01],\n",
       "       [9.99474049e-01],\n",
       "       [2.17592120e-02],\n",
       "       [8.81689787e-01]], dtype=float32)"
      ]
     },
     "execution_count": 38,
     "metadata": {},
     "output_type": "execute_result"
    }
   ],
   "source": [
    "pred = model.predict(x_test)\n",
    "pred"
   ]
  },
  {
   "cell_type": "code",
   "execution_count": 39,
   "metadata": {},
   "outputs": [
    {
     "name": "stdout",
     "output_type": "stream",
     "text": [
      "[0. 0. 1. 1. 1. 0. 1. 1. 1. 1. 1. 0. 1. 1. 1. 0. 1. 1. 0. 0. 1. 1. 1. 0.\n",
      " 1. 1. 1. 1. 0. 1. 1. 1. 1. 0. 1. 1. 1. 1. 0. 0. 0. 0. 1. 1. 1. 1. 1. 0.\n",
      " 0. 1. 0. 0. 1. 0. 0. 1. 1. 1. 0. 1. 1. 0. 1. 1. 1. 1. 1. 1. 1. 1. 1. 0.\n",
      " 1. 1. 0. 0. 0. 0. 0. 0. 0. 1. 0. 1. 1. 1. 0. 1. 1. 0. 0. 1. 1. 1. 1. 0.\n",
      " 1. 0. 1. 0. 1. 0. 1. 0. 0. 1. 1. 1. 0. 0. 0. 1. 1. 1. 0. 0. 0. 1. 1. 1.\n",
      " 1. 1. 0. 1. 1. 0. 1. 0. 0. 1. 0. 1. 1. 0. 1. 0. 1. 1. 1. 1. 1. 0. 1. 1.\n",
      " 0. 1. 1. 1. 1. 0. 1. 0. 1. 1. 1. 1. 1. 1. 1. 0. 0. 1. 1. 1. 1. 0. 0. 0.\n",
      " 0. 1. 0. 1. 1. 0. 0. 1. 0. 0. 1. 1. 1. 1. 0. 1. 1. 1. 0. 1.]\n"
     ]
    }
   ],
   "source": [
    "import numpy as np\n",
    "pred = np.round(pred).flatten()\n",
    "print(pred)"
   ]
  }
 ],
 "metadata": {
  "kernelspec": {
   "display_name": "TF2.4_PY3.7",
   "language": "python",
   "name": "tf2.4_py3.7"
  },
  "language_info": {
   "codemirror_mode": {
    "name": "ipython",
    "version": 3
   },
   "file_extension": ".py",
   "mimetype": "text/x-python",
   "name": "python",
   "nbconvert_exporter": "python",
   "pygments_lexer": "ipython3",
   "version": "3.7.10"
  }
 },
 "nbformat": 4,
 "nbformat_minor": 4
}
