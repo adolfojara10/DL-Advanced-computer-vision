{
 "cells": [
  {
   "cell_type": "code",
   "execution_count": 1,
   "metadata": {},
   "outputs": [],
   "source": [
    "import numpy as np\n",
    "import pandas as pd \n",
    "import tensorflow as tf\n",
    "import matplotlib.pyplot as plt"
   ]
  },
  {
   "cell_type": "code",
   "execution_count": 2,
   "metadata": {},
   "outputs": [
    {
     "data": {
      "text/plain": [
       "array([[       1971,        2300],\n",
       "       [       1972,        3500],\n",
       "       [       1973,        2500],\n",
       "       [       1973,        2500],\n",
       "       [       1974,        4100],\n",
       "       [       1974,        4500],\n",
       "       [       1974,        8000],\n",
       "       [       1975,        3510],\n",
       "       [       1976,        5000],\n",
       "       [       1976,        8500],\n",
       "       [       1976,        6500],\n",
       "       [       1978,        9000],\n",
       "       [       1978,       29000],\n",
       "       [       1979,       17500],\n",
       "       [       1979,       29000],\n",
       "       [       1979,       68000],\n",
       "       [       1981,       11500],\n",
       "       [       1982,       55000],\n",
       "       [       1982,      134000],\n",
       "       [       1983,       22000],\n",
       "       [       1984,       63000],\n",
       "       [       1984,      190000],\n",
       "       [       1985,      275000],\n",
       "       [       1985,       25000],\n",
       "       [       1985,       16000],\n",
       "       [       1986,      110000],\n",
       "       [       1986,      375000],\n",
       "       [       1986,       30000],\n",
       "       [       1987,      385000],\n",
       "       [       1987,      730000],\n",
       "       [       1987,      273000],\n",
       "       [       1987,      553000],\n",
       "       [       1988,      180000],\n",
       "       [       1988,      250000],\n",
       "       [       1989,      600000],\n",
       "       [       1989,     1000000],\n",
       "       [       1989,     1180235],\n",
       "       [       1989,      310000],\n",
       "       [       1990,     1200000],\n",
       "       [       1991,     1350000],\n",
       "       [       1991,       35000],\n",
       "       [       1992,      600000],\n",
       "       [       1992,      900000],\n",
       "       [       1993,     2800000],\n",
       "       [       1993,     3100000],\n",
       "       [       1994,      578977],\n",
       "       [       1994,     2500000],\n",
       "       [       1995,     2500000],\n",
       "       [       1999,      111000],\n",
       "       [       1995,     5500000],\n",
       "       [       1996,     4300000],\n",
       "       [       1997,    10000000],\n",
       "       [       1997,     7500000],\n",
       "       [       1997,     8800000],\n",
       "       [       1998,     7500000],\n",
       "       [       1999,     9500000],\n",
       "       [       1999,    13500000],\n",
       "       [       2000,    21000000],\n",
       "       [       2000,    21000000],\n",
       "       [       1999,    27400000],\n",
       "       [       1999,    21300000],\n",
       "       [       1999,    22000000],\n",
       "       [       2000,    42000000],\n",
       "       [       2001,   191000000],\n",
       "       [       2001,    45000000],\n",
       "       [       2002,    55000000],\n",
       "       [       2004,   112000000],\n",
       "       [       2004,   400000000],\n",
       "       [       2005,   169000000],\n",
       "       [       2006,   184000000],\n",
       "       [       2005,   228000000],\n",
       "       [       2006,   362000000],\n",
       "       [       2007,   540000000],\n",
       "       [       2008,    47000000],\n",
       "       [       2003,    54300000],\n",
       "       [       2003,   105900000],\n",
       "       [       2002,   220000000],\n",
       "       [       2005,   165000000],\n",
       "       [       2005,   250000000],\n",
       "       [       2006,   291000000],\n",
       "       [       2007,   169000000],\n",
       "       [       2003,   410000000],\n",
       "       [       2008,   600000000],\n",
       "       [       2009,   760000000],\n",
       "       [       2011,  1870000000],\n",
       "       [       2012,   432000000],\n",
       "       [       2007,   463000000],\n",
       "       [       2007,    26000000],\n",
       "       [       2008,   230000000],\n",
       "       [       2004,   592000000],\n",
       "       [       2007,   411000000],\n",
       "       [       2008,   731000000],\n",
       "       [       2008,   758000000],\n",
       "       [       2007,   789000000],\n",
       "       [       2009,   904000000],\n",
       "       [       2010,  1000000000],\n",
       "       [       2012,  2990000000],\n",
       "       [       2013,  1000000000],\n",
       "       [       2011,  1160000000],\n",
       "       [       2010,  1170000000],\n",
       "       [       2010,  1200000000],\n",
       "       [       2012,  1200000000],\n",
       "       [       2012,  1303000000],\n",
       "       [       2010,  1400000000],\n",
       "       [       2012,  1400000000],\n",
       "       [       2014,  1400000000],\n",
       "       [       2006,  1700000000],\n",
       "       [       2015,  1750000000],\n",
       "       [       2013,  1860000000],\n",
       "       [       2015,  1900000000],\n",
       "       [       2008,  1900000000],\n",
       "       [       2010,  2000000000],\n",
       "       [       2014,  2000000000],\n",
       "       [       2015,  2000000000],\n",
       "       [       2015,  3000000000],\n",
       "       [       2012,  2100000000],\n",
       "       [       2011,  2270000000],\n",
       "       [       2010,  2300000000],\n",
       "       [       2014,  2600000000],\n",
       "       [       2011,  2600000000],\n",
       "       [       2012,  2750000000],\n",
       "       [       2014,  3000000000],\n",
       "       [       2016,  3000000000],\n",
       "       [       2017,  5300000000],\n",
       "       [       2017,  5300000000],\n",
       "       [       2018,  8500000000],\n",
       "       [       2012,  3100000000],\n",
       "       [       2016,  3200000000],\n",
       "       [       2016,  3300000000],\n",
       "       [       2015,  3990000000],\n",
       "       [       2013,  4200000000],\n",
       "       [       2017,  4300000000],\n",
       "       [       2014,  4310000000],\n",
       "       [       2017,  4800000000],\n",
       "       [       2017,  4800000000],\n",
       "       [       2017,  4800000000],\n",
       "       [       2012,  5000000000],\n",
       "       [       2013,  5000000000],\n",
       "       [       2014,  5560000000],\n",
       "       [       2017,  6100000000],\n",
       "       [       2018,  6900000000],\n",
       "       [       2016,  4000000000],\n",
       "       [       2018,  6900000000],\n",
       "       [       2017,  5500000000],\n",
       "       [       2018,  5500000000],\n",
       "       [       2017,  7000000000],\n",
       "       [       2015,  7100000000],\n",
       "       [       2017,  8000000000],\n",
       "       [       2016,  7200000000],\n",
       "       [       2017,  8000000000],\n",
       "       [       2016,  8000000000],\n",
       "       [       2017,  9700000000],\n",
       "       [       2017,   250000000],\n",
       "       [       2015, 10000000000],\n",
       "       [       2017,  5450000000],\n",
       "       [       2018, 10000000000],\n",
       "       [       2017,  4300000000],\n",
       "       [       2017, 18000000000],\n",
       "       [       2017, 19200000000],\n",
       "       [       2018,  8876000000],\n",
       "       [       2018, 23600000000],\n",
       "       [       2018,  9000000000]], dtype=int64)"
      ]
     },
     "execution_count": 2,
     "metadata": {},
     "output_type": "execute_result"
    }
   ],
   "source": [
    "data = pd.read_csv('moore.csv', header=None).values\n",
    "data"
   ]
  },
  {
   "cell_type": "code",
   "execution_count": 3,
   "metadata": {},
   "outputs": [],
   "source": [
    "x = data[:,0].reshape(-1,1)\n",
    "y = data[:,1]"
   ]
  },
  {
   "cell_type": "markdown",
   "metadata": {},
   "source": [
    "# Scatter the points"
   ]
  },
  {
   "cell_type": "code",
   "execution_count": 4,
   "metadata": {},
   "outputs": [
    {
     "data": {
      "text/plain": [
       "Text(0, 0.5, '# of transistors')"
      ]
     },
     "execution_count": 4,
     "metadata": {},
     "output_type": "execute_result"
    },
    {
     "data": {
      "image/png": "[encoded data removed]",
      "text/plain": [
       "<Figure size 432x288 with 1 Axes>"
      ]
     },
     "metadata": {
      "needs_background": "light"
     },
     "output_type": "display_data"
    }
   ],
   "source": [
    "plt.scatter(x=x, y=y)\n",
    "plt.xlabel('Year')\n",
    "plt.ylabel('# of transistors')"
   ]
  },
  {
   "cell_type": "markdown",
   "metadata": {},
   "source": [
    "# Log of the y"
   ]
  },
  {
   "cell_type": "code",
   "execution_count": 5,
   "metadata": {},
   "outputs": [
    {
     "data": {
      "text/plain": [
       "Text(0, 0.5, '# of transistors')"
      ]
     },
     "execution_count": 5,
     "metadata": {},
     "output_type": "execute_result"
    },
    {
     "data": {
      "image/png": "[encoded data removed]",
      "text/plain": [
       "<Figure size 432x288 with 1 Axes>"
      ]
     },
     "metadata": {
      "needs_background": "light"
     },
     "output_type": "display_data"
    }
   ],
   "source": [
    "y_log = np.log(y)\n",
    "plt.scatter(x=x, y=y_log)\n",
    "plt.xlabel('Year')\n",
    "plt.ylabel('# of transistors')"
   ]
  },
  {
   "cell_type": "markdown",
   "metadata": {},
   "source": [
    "# Center x"
   ]
  },
  {
   "cell_type": "code",
   "execution_count": 6,
   "metadata": {},
   "outputs": [],
   "source": [
    "x = x - x.mean()"
   ]
  },
  {
   "cell_type": "markdown",
   "metadata": {},
   "source": [
    "# Model"
   ]
  },
  {
   "cell_type": "code",
   "execution_count": 7,
   "metadata": {},
   "outputs": [],
   "source": [
    "model = tf.keras.models.Sequential([\n",
    "    tf.keras.layers.Input(shape=(1,)),\n",
    "    tf.keras.layers.Dense(units=1)\n",
    "])"
   ]
  },
  {
   "cell_type": "code",
   "execution_count": 8,
   "metadata": {},
   "outputs": [],
   "source": [
    "model.compile(optimizer=tf.keras.optimizers.SGD(learning_rate=0.001, momentum=0.9), loss='mse')"
   ]
  },
  {
   "cell_type": "markdown",
   "metadata": {},
   "source": [
    "## Learning rate scheduler"
   ]
  },
  {
   "cell_type": "code",
   "execution_count": 9,
   "metadata": {},
   "outputs": [],
   "source": [
    "def schedule(epoch, lr):\n",
    "    if epoch >= 50:\n",
    "        return 0.0001\n",
    "    return 0.001"
   ]
  },
  {
   "cell_type": "code",
   "execution_count": 10,
   "metadata": {},
   "outputs": [],
   "source": [
    "scheduler = tf.keras.callbacks.LearningRateScheduler(schedule)"
   ]
  },
  {
   "cell_type": "markdown",
   "metadata": {},
   "source": [
    "# Training the model"
   ]
  },
  {
   "cell_type": "code",
   "execution_count": 11,
   "metadata": {},
   "outputs": [
    {
     "name": "stdout",
     "output_type": "stream",
     "text": [
      "Epoch 1/200\n",
      "6/6 [==============================] - 0s 1ms/step - loss: 474.8359\n",
      "Epoch 2/200\n",
      "6/6 [==============================] - 0s 1ms/step - loss: 349.2493\n",
      "Epoch 3/200\n",
      "6/6 [==============================] - 0s 1ms/step - loss: 343.4271\n",
      "Epoch 4/200\n",
      "6/6 [==============================] - 0s 1ms/step - loss: 332.8558\n",
      "Epoch 5/200\n",
      "6/6 [==============================] - 0s 989us/step - loss: 327.4735\n",
      "Epoch 6/200\n",
      "6/6 [==============================] - 0s 1ms/step - loss: 268.5364\n",
      "Epoch 7/200\n",
      "6/6 [==============================] - 0s 1ms/step - loss: 144.2345\n",
      "Epoch 8/200\n",
      "6/6 [==============================] - 0s 1ms/step - loss: 99.7445\n",
      "Epoch 9/200\n",
      "6/6 [==============================] - 0s 997us/step - loss: 61.9862\n",
      "Epoch 10/200\n",
      "6/6 [==============================] - 0s 1ms/step - loss: 40.6718\n",
      "Epoch 11/200\n",
      "6/6 [==============================] - 0s 1ms/step - loss: 27.9364\n",
      "Epoch 12/200\n",
      "6/6 [==============================] - 0s 998us/step - loss: 19.9639\n",
      "Epoch 13/200\n",
      "6/6 [==============================] - 0s 1ms/step - loss: 15.0680\n",
      "Epoch 14/200\n",
      "6/6 [==============================] - 0s 1ms/step - loss: 13.5290\n",
      "Epoch 15/200\n",
      "6/6 [==============================] - 0s 997us/step - loss: 9.8158\n",
      "Epoch 16/200\n",
      "6/6 [==============================] - 0s 997us/step - loss: 6.9484\n",
      "Epoch 17/200\n",
      "6/6 [==============================] - 0s 1ms/step - loss: 7.2679\n",
      "Epoch 18/200\n",
      "6/6 [==============================] - 0s 1ms/step - loss: 5.9051\n",
      "Epoch 19/200\n",
      "6/6 [==============================] - 0s 1ms/step - loss: 3.7524\n",
      "Epoch 20/200\n",
      "6/6 [==============================] - 0s 2ms/step - loss: 2.9178\n",
      "Epoch 21/200\n",
      "6/6 [==============================] - 0s 997us/step - loss: 2.0763\n",
      "Epoch 22/200\n",
      "6/6 [==============================] - 0s 997us/step - loss: 1.6810\n",
      "Epoch 23/200\n",
      "6/6 [==============================] - 0s 1ms/step - loss: 1.6565\n",
      "Epoch 24/200\n",
      "6/6 [==============================] - 0s 1ms/step - loss: 1.4106\n",
      "Epoch 25/200\n",
      "6/6 [==============================] - 0s 1ms/step - loss: 1.5089\n",
      "Epoch 26/200\n",
      "6/6 [==============================] - 0s 997us/step - loss: 1.1346\n",
      "Epoch 27/200\n",
      "6/6 [==============================] - 0s 999us/step - loss: 1.2705\n",
      "Epoch 28/200\n",
      "6/6 [==============================] - 0s 1ms/step - loss: 1.0123\n",
      "Epoch 29/200\n",
      "6/6 [==============================] - 0s 1ms/step - loss: 1.2359\n",
      "Epoch 30/200\n",
      "6/6 [==============================] - 0s 1ms/step - loss: 0.9776\n",
      "Epoch 31/200\n",
      "6/6 [==============================] - 0s 1ms/step - loss: 1.0826\n",
      "Epoch 32/200\n",
      "6/6 [==============================] - 0s 1ms/step - loss: 1.2304\n",
      "Epoch 33/200\n",
      "6/6 [==============================] - 0s 1ms/step - loss: 0.8618\n",
      "Epoch 34/200\n",
      "6/6 [==============================] - 0s 1ms/step - loss: 0.8138\n",
      "Epoch 35/200\n",
      "6/6 [==============================] - 0s 1ms/step - loss: 0.8652\n",
      "Epoch 36/200\n",
      "6/6 [==============================] - 0s 1ms/step - loss: 0.9629\n",
      "Epoch 37/200\n",
      "6/6 [==============================] - 0s 997us/step - loss: 0.9856\n",
      "Epoch 38/200\n",
      "6/6 [==============================] - 0s 1ms/step - loss: 0.9984\n",
      "Epoch 39/200\n",
      "6/6 [==============================] - 0s 1ms/step - loss: 1.0795\n",
      "Epoch 40/200\n",
      "6/6 [==============================] - 0s 966us/step - loss: 0.8635\n",
      "Epoch 41/200\n",
      "6/6 [==============================] - 0s 1ms/step - loss: 0.7892\n",
      "Epoch 42/200\n",
      "6/6 [==============================] - 0s 1ms/step - loss: 0.9012\n",
      "Epoch 43/200\n",
      "6/6 [==============================] - 0s 1ms/step - loss: 0.9555\n",
      "Epoch 44/200\n",
      "6/6 [==============================] - 0s 1ms/step - loss: 1.0513\n",
      "Epoch 45/200\n",
      "6/6 [==============================] - 0s 1ms/step - loss: 0.9402\n",
      "Epoch 46/200\n",
      "6/6 [==============================] - 0s 2ms/step - loss: 1.0955\n",
      "Epoch 47/200\n",
      "6/6 [==============================] - 0s 1ms/step - loss: 0.8395\n",
      "Epoch 48/200\n",
      "6/6 [==============================] - 0s 1ms/step - loss: 0.7007\n",
      "Epoch 49/200\n",
      "6/6 [==============================] - 0s 2ms/step - loss: 0.9307\n",
      "Epoch 50/200\n",
      "6/6 [==============================] - 0s 2ms/step - loss: 0.8490\n",
      "Epoch 51/200\n",
      "6/6 [==============================] - 0s 1ms/step - loss: 1.2721\n",
      "Epoch 52/200\n",
      "6/6 [==============================] - 0s 997us/step - loss: 2.1024\n",
      "Epoch 53/200\n",
      "6/6 [==============================] - 0s 1ms/step - loss: 1.0493\n",
      "Epoch 54/200\n",
      "6/6 [==============================] - 0s 996us/step - loss: 1.0092\n",
      "Epoch 55/200\n",
      "6/6 [==============================] - 0s 995us/step - loss: 0.9016\n",
      "Epoch 56/200\n",
      "6/6 [==============================] - 0s 1ms/step - loss: 0.7016\n",
      "Epoch 57/200\n",
      "6/6 [==============================] - 0s 1ms/step - loss: 0.8509\n",
      "Epoch 58/200\n",
      "6/6 [==============================] - 0s 1ms/step - loss: 0.8044\n",
      "Epoch 59/200\n",
      "6/6 [==============================] - 0s 1ms/step - loss: 1.0015\n",
      "Epoch 60/200\n",
      "6/6 [==============================] - 0s 997us/step - loss: 0.8892\n",
      "Epoch 61/200\n",
      "6/6 [==============================] - 0s 1ms/step - loss: 1.0724\n",
      "Epoch 62/200\n",
      "6/6 [==============================] - 0s 995us/step - loss: 0.8738\n",
      "Epoch 63/200\n",
      "6/6 [==============================] - 0s 997us/step - loss: 0.8357\n",
      "Epoch 64/200\n",
      "6/6 [==============================] - 0s 1ms/step - loss: 1.0194\n",
      "Epoch 65/200\n",
      "6/6 [==============================] - ETA: 0s - loss: 1.371 - 0s 997us/step - loss: 1.0215\n",
      "Epoch 66/200\n",
      "6/6 [==============================] - 0s 997us/step - loss: 0.7249\n",
      "Epoch 67/200\n",
      "6/6 [==============================] - 0s 997us/step - loss: 0.7539\n",
      "Epoch 68/200\n",
      "6/6 [==============================] - 0s 997us/step - loss: 0.8518\n",
      "Epoch 69/200\n",
      "6/6 [==============================] - 0s 1ms/step - loss: 0.7214\n",
      "Epoch 70/200\n",
      "6/6 [==============================] - 0s 997us/step - loss: 0.9974\n",
      "Epoch 71/200\n",
      "6/6 [==============================] - 0s 997us/step - loss: 0.8341\n",
      "Epoch 72/200\n",
      "6/6 [==============================] - 0s 997us/step - loss: 0.8652\n",
      "Epoch 73/200\n",
      "6/6 [==============================] - 0s 1ms/step - loss: 0.9747\n",
      "Epoch 74/200\n",
      "6/6 [==============================] - 0s 1ms/step - loss: 0.8230\n",
      "Epoch 75/200\n",
      "6/6 [==============================] - 0s 997us/step - loss: 0.8395\n",
      "Epoch 76/200\n",
      "6/6 [==============================] - 0s 997us/step - loss: 0.8120\n",
      "Epoch 77/200\n",
      "6/6 [==============================] - 0s 997us/step - loss: 0.9621\n",
      "Epoch 78/200\n",
      "6/6 [==============================] - 0s 998us/step - loss: 1.0474\n",
      "Epoch 79/200\n",
      "6/6 [==============================] - 0s 997us/step - loss: 1.0522\n",
      "Epoch 80/200\n",
      "6/6 [==============================] - 0s 997us/step - loss: 0.9796\n",
      "Epoch 81/200\n",
      "6/6 [==============================] - 0s 1ms/step - loss: 0.7978\n",
      "Epoch 82/200\n",
      "6/6 [==============================] - 0s 1ms/step - loss: 1.0096\n",
      "Epoch 83/200\n",
      "6/6 [==============================] - 0s 997us/step - loss: 0.7540\n",
      "Epoch 84/200\n",
      "6/6 [==============================] - 0s 2ms/step - loss: 0.8368\n",
      "Epoch 85/200\n",
      "6/6 [==============================] - 0s 1ms/step - loss: 0.8471\n",
      "Epoch 86/200\n",
      "6/6 [==============================] - 0s 1ms/step - loss: 0.8699\n",
      "Epoch 87/200\n",
      "6/6 [==============================] - 0s 2ms/step - loss: 0.9020\n",
      "Epoch 88/200\n",
      "6/6 [==============================] - 0s 1ms/step - loss: 0.7736\n",
      "Epoch 89/200\n",
      "6/6 [==============================] - 0s 1ms/step - loss: 1.1305\n",
      "Epoch 90/200\n",
      "6/6 [==============================] - 0s 1ms/step - loss: 0.7590\n",
      "Epoch 91/200\n",
      "6/6 [==============================] - 0s 2ms/step - loss: 0.8766\n",
      "Epoch 92/200\n",
      "6/6 [==============================] - 0s 997us/step - loss: 1.0246\n",
      "Epoch 93/200\n",
      "6/6 [==============================] - 0s 997us/step - loss: 0.7699\n",
      "Epoch 94/200\n",
      "6/6 [==============================] - 0s 1ms/step - loss: 0.7774\n",
      "Epoch 95/200\n",
      "6/6 [==============================] - 0s 2ms/step - loss: 0.8574\n",
      "Epoch 96/200\n",
      "6/6 [==============================] - 0s 798us/step - loss: 0.7235\n",
      "Epoch 97/200\n",
      "6/6 [==============================] - ETA: 0s - loss: 1.474 - 0s 997us/step - loss: 1.0596\n",
      "Epoch 98/200\n",
      "6/6 [==============================] - 0s 2ms/step - loss: 0.9379\n",
      "Epoch 99/200\n",
      "6/6 [==============================] - 0s 5ms/step - loss: 0.9118\n",
      "Epoch 100/200\n",
      "6/6 [==============================] - 0s 2ms/step - loss: 0.9307\n",
      "Epoch 101/200\n",
      "6/6 [==============================] - 0s 2ms/step - loss: 0.7878\n",
      "Epoch 102/200\n",
      "6/6 [==============================] - 0s 1ms/step - loss: 0.8593\n",
      "Epoch 103/200\n"
     ]
    },
    {
     "name": "stdout",
     "output_type": "stream",
     "text": [
      "6/6 [==============================] - 0s 1ms/step - loss: 0.7471\n",
      "Epoch 104/200\n",
      "6/6 [==============================] - 0s 997us/step - loss: 0.9315\n",
      "Epoch 105/200\n",
      "6/6 [==============================] - 0s 1ms/step - loss: 0.9688\n",
      "Epoch 106/200\n",
      "6/6 [==============================] - 0s 2ms/step - loss: 0.7863\n",
      "Epoch 107/200\n",
      "6/6 [==============================] - 0s 1ms/step - loss: 0.7569\n",
      "Epoch 108/200\n",
      "6/6 [==============================] - 0s 997us/step - loss: 0.7923\n",
      "Epoch 109/200\n",
      "6/6 [==============================] - 0s 1ms/step - loss: 0.9720\n",
      "Epoch 110/200\n",
      "6/6 [==============================] - 0s 1ms/step - loss: 0.8884\n",
      "Epoch 111/200\n",
      "6/6 [==============================] - 0s 997us/step - loss: 1.0319\n",
      "Epoch 112/200\n",
      "6/6 [==============================] - 0s 1ms/step - loss: 0.7645\n",
      "Epoch 113/200\n",
      "6/6 [==============================] - 0s 798us/step - loss: 0.9766\n",
      "Epoch 114/200\n",
      "6/6 [==============================] - 0s 799us/step - loss: 0.9876\n",
      "Epoch 115/200\n",
      "6/6 [==============================] - 0s 1ms/step - loss: 0.7089\n",
      "Epoch 116/200\n",
      "6/6 [==============================] - 0s 997us/step - loss: 0.9127\n",
      "Epoch 117/200\n",
      "6/6 [==============================] - 0s 997us/step - loss: 0.8847\n",
      "Epoch 118/200\n",
      "6/6 [==============================] - 0s 2ms/step - loss: 0.7711\n",
      "Epoch 119/200\n",
      "6/6 [==============================] - 0s 997us/step - loss: 0.9518\n",
      "Epoch 120/200\n",
      "6/6 [==============================] - 0s 1ms/step - loss: 0.7941\n",
      "Epoch 121/200\n",
      "6/6 [==============================] - 0s 1ms/step - loss: 0.9688\n",
      "Epoch 122/200\n",
      "6/6 [==============================] - 0s 2ms/step - loss: 1.0276\n",
      "Epoch 123/200\n",
      "6/6 [==============================] - 0s 997us/step - loss: 0.7641\n",
      "Epoch 124/200\n",
      "6/6 [==============================] - 0s 1ms/step - loss: 0.6817\n",
      "Epoch 125/200\n",
      "6/6 [==============================] - 0s 1ms/step - loss: 0.8874\n",
      "Epoch 126/200\n",
      "6/6 [==============================] - 0s 2ms/step - loss: 0.9606\n",
      "Epoch 127/200\n",
      "6/6 [==============================] - 0s 1ms/step - loss: 0.7907\n",
      "Epoch 128/200\n",
      "6/6 [==============================] - 0s 997us/step - loss: 0.9049\n",
      "Epoch 129/200\n",
      "6/6 [==============================] - 0s 1ms/step - loss: 0.7938\n",
      "Epoch 130/200\n",
      "6/6 [==============================] - 0s 2ms/step - loss: 0.6893\n",
      "Epoch 131/200\n",
      "6/6 [==============================] - 0s 2ms/step - loss: 0.9107\n",
      "Epoch 132/200\n",
      "6/6 [==============================] - 0s 2ms/step - loss: 0.7087\n",
      "Epoch 133/200\n",
      "6/6 [==============================] - 0s 997us/step - loss: 0.9156\n",
      "Epoch 134/200\n",
      "6/6 [==============================] - 0s 1ms/step - loss: 0.9591\n",
      "Epoch 135/200\n",
      "6/6 [==============================] - 0s 6ms/step - loss: 0.8439\n",
      "Epoch 136/200\n",
      "6/6 [==============================] - 0s 2ms/step - loss: 0.9866\n",
      "Epoch 137/200\n",
      "6/6 [==============================] - 0s 2ms/step - loss: 0.8935\n",
      "Epoch 138/200\n",
      "6/6 [==============================] - 0s 1ms/step - loss: 0.7638\n",
      "Epoch 139/200\n",
      "6/6 [==============================] - 0s 2ms/step - loss: 0.9508\n",
      "Epoch 140/200\n",
      "6/6 [==============================] - 0s 2ms/step - loss: 1.0071\n",
      "Epoch 141/200\n",
      "6/6 [==============================] - 0s 2ms/step - loss: 0.7751\n",
      "Epoch 142/200\n",
      "6/6 [==============================] - 0s 1ms/step - loss: 0.9064\n",
      "Epoch 143/200\n",
      "6/6 [==============================] - 0s 997us/step - loss: 0.9608\n",
      "Epoch 144/200\n",
      "6/6 [==============================] - 0s 2ms/step - loss: 0.8067\n",
      "Epoch 145/200\n",
      "6/6 [==============================] - 0s 2ms/step - loss: 0.8436\n",
      "Epoch 146/200\n",
      "6/6 [==============================] - 0s 998us/step - loss: 0.9852\n",
      "Epoch 147/200\n",
      "6/6 [==============================] - 0s 1ms/step - loss: 0.9999\n",
      "Epoch 148/200\n",
      "6/6 [==============================] - 0s 1ms/step - loss: 0.7790\n",
      "Epoch 149/200\n",
      "6/6 [==============================] - 0s 2ms/step - loss: 0.8593\n",
      "Epoch 150/200\n",
      "6/6 [==============================] - 0s 798us/step - loss: 0.7734\n",
      "Epoch 151/200\n",
      "6/6 [==============================] - 0s 1ms/step - loss: 0.9241\n",
      "Epoch 152/200\n",
      "6/6 [==============================] - 0s 1ms/step - loss: 0.7526\n",
      "Epoch 153/200\n",
      "6/6 [==============================] - 0s 2ms/step - loss: 0.8753\n",
      "Epoch 154/200\n",
      "6/6 [==============================] - 0s 1ms/step - loss: 0.8254\n",
      "Epoch 155/200\n",
      "6/6 [==============================] - 0s 1ms/step - loss: 1.0246\n",
      "Epoch 156/200\n",
      "6/6 [==============================] - 0s 1ms/step - loss: 0.8421\n",
      "Epoch 157/200\n",
      "6/6 [==============================] - 0s 1ms/step - loss: 0.7972\n",
      "Epoch 158/200\n",
      "6/6 [==============================] - 0s 1ms/step - loss: 1.1475\n",
      "Epoch 159/200\n",
      "6/6 [==============================] - 0s 2ms/step - loss: 0.8388\n",
      "Epoch 160/200\n",
      "6/6 [==============================] - 0s 1ms/step - loss: 0.8563\n",
      "Epoch 161/200\n",
      "6/6 [==============================] - 0s 997us/step - loss: 0.8739\n",
      "Epoch 162/200\n",
      "6/6 [==============================] - 0s 1ms/step - loss: 0.9743\n",
      "Epoch 163/200\n",
      "6/6 [==============================] - 0s 1ms/step - loss: 0.7939\n",
      "Epoch 164/200\n",
      "6/6 [==============================] - 0s 1ms/step - loss: 0.8988\n",
      "Epoch 165/200\n",
      "6/6 [==============================] - 0s 1ms/step - loss: 0.8287\n",
      "Epoch 166/200\n",
      "6/6 [==============================] - 0s 1ms/step - loss: 0.9017\n",
      "Epoch 167/200\n",
      "6/6 [==============================] - 0s 1ms/step - loss: 0.8017\n",
      "Epoch 168/200\n",
      "6/6 [==============================] - 0s 997us/step - loss: 0.9701\n",
      "Epoch 169/200\n",
      "6/6 [==============================] - 0s 1ms/step - loss: 1.0044\n",
      "Epoch 170/200\n",
      "6/6 [==============================] - 0s 2ms/step - loss: 0.8416\n",
      "Epoch 171/200\n",
      "6/6 [==============================] - 0s 1ms/step - loss: 0.6762\n",
      "Epoch 172/200\n",
      "6/6 [==============================] - 0s 997us/step - loss: 0.7294\n",
      "Epoch 173/200\n",
      "6/6 [==============================] - 0s 1ms/step - loss: 0.6913\n",
      "Epoch 174/200\n",
      "6/6 [==============================] - 0s 1ms/step - loss: 1.1611\n",
      "Epoch 175/200\n",
      "6/6 [==============================] - 0s 1ms/step - loss: 0.9122\n",
      "Epoch 176/200\n",
      "6/6 [==============================] - 0s 1ms/step - loss: 0.7792\n",
      "Epoch 177/200\n",
      "6/6 [==============================] - 0s 1ms/step - loss: 1.0360\n",
      "Epoch 178/200\n",
      "6/6 [==============================] - 0s 997us/step - loss: 1.0596\n",
      "Epoch 179/200\n",
      "6/6 [==============================] - 0s 1ms/step - loss: 0.9634\n",
      "Epoch 180/200\n",
      "6/6 [==============================] - 0s 1ms/step - loss: 1.0211\n",
      "Epoch 181/200\n",
      "6/6 [==============================] - 0s 1ms/step - loss: 0.9020\n",
      "Epoch 182/200\n",
      "6/6 [==============================] - 0s 1ms/step - loss: 0.9038\n",
      "Epoch 183/200\n",
      "6/6 [==============================] - 0s 1ms/step - loss: 0.7902\n",
      "Epoch 184/200\n",
      "6/6 [==============================] - 0s 1ms/step - loss: 0.9537\n",
      "Epoch 185/200\n",
      "6/6 [==============================] - 0s 1ms/step - loss: 0.8096\n",
      "Epoch 186/200\n",
      "6/6 [==============================] - 0s 1ms/step - loss: 0.7816\n",
      "Epoch 187/200\n",
      "6/6 [==============================] - 0s 1ms/step - loss: 0.9492\n",
      "Epoch 188/200\n",
      "6/6 [==============================] - 0s 2ms/step - loss: 0.7965\n",
      "Epoch 189/200\n",
      "6/6 [==============================] - 0s 1ms/step - loss: 1.0090\n",
      "Epoch 190/200\n",
      "6/6 [==============================] - 0s 1ms/step - loss: 0.8567\n",
      "Epoch 191/200\n",
      "6/6 [==============================] - 0s 1ms/step - loss: 0.8811\n",
      "Epoch 192/200\n",
      "6/6 [==============================] - 0s 1ms/step - loss: 0.7662\n",
      "Epoch 193/200\n",
      "6/6 [==============================] - 0s 997us/step - loss: 0.7467\n",
      "Epoch 194/200\n",
      "6/6 [==============================] - 0s 1ms/step - loss: 0.9284\n",
      "Epoch 195/200\n",
      "6/6 [==============================] - 0s 1ms/step - loss: 0.7212\n",
      "Epoch 196/200\n",
      "6/6 [==============================] - 0s 1ms/step - loss: 0.8482\n",
      "Epoch 197/200\n",
      "6/6 [==============================] - 0s 1ms/step - loss: 0.9853\n",
      "Epoch 198/200\n",
      "6/6 [==============================] - 0s 1ms/step - loss: 0.8660\n",
      "Epoch 199/200\n",
      "6/6 [==============================] - 0s 1ms/step - loss: 0.7959\n",
      "Epoch 200/200\n",
      "6/6 [==============================] - 0s 1ms/step - loss: 1.0144\n"
     ]
    }
   ],
   "source": [
    "results = model.fit(x=x, y=y_log, epochs=200, callbacks=[scheduler])"
   ]
  },
  {
   "cell_type": "markdown",
   "metadata": {},
   "source": [
    "# Plotting the loss"
   ]
  },
  {
   "cell_type": "code",
   "execution_count": 12,
   "metadata": {},
   "outputs": [
    {
     "data": {
      "image/png": "[encoded data removed]",
      "text/plain": [
       "<Figure size 432x288 with 1 Axes>"
      ]
     },
     "metadata": {
      "needs_background": "light"
     },
     "output_type": "display_data"
    }
   ],
   "source": [
    "plt.plot(results.history['loss'], label='loss')\n",
    "plt.show()"
   ]
  },
  {
   "cell_type": "markdown",
   "metadata": {},
   "source": [
    "# Getting the weights"
   ]
  },
  {
   "cell_type": "code",
   "execution_count": 13,
   "metadata": {},
   "outputs": [
    {
     "name": "stdout",
     "output_type": "stream",
     "text": [
      "[array([[0.34219337]], dtype=float32), array([17.775917], dtype=float32)]\n"
     ]
    }
   ],
   "source": [
    "print(model.layers[0].get_weights())"
   ]
  },
  {
   "cell_type": "code",
   "execution_count": 14,
   "metadata": {},
   "outputs": [
    {
     "data": {
      "text/plain": [
       "0.34219337"
      ]
     },
     "execution_count": 14,
     "metadata": {},
     "output_type": "execute_result"
    }
   ],
   "source": [
    "w = model.layers[0].get_weights()[0][0,0]\n",
    "w "
   ]
  },
  {
   "cell_type": "code",
   "execution_count": 15,
   "metadata": {},
   "outputs": [
    {
     "name": "stdout",
     "output_type": "stream",
     "text": [
      "Time to double: 2.02560087733837\n"
     ]
    }
   ],
   "source": [
    "print(\"Time to double:\", np.log(2) / w)"
   ]
  },
  {
   "cell_type": "code",
   "execution_count": 16,
   "metadata": {},
   "outputs": [
    {
     "name": "stdout",
     "output_type": "stream",
     "text": [
      "151472092.07068986 2103686087.1728287\n",
      "Time to double: 2.02560087733837\n"
     ]
    }
   ],
   "source": [
    "# If you know the analytical solution\n",
    "x = np.array(x).flatten()\n",
    "y = np.array(y)\n",
    "denominator = x.dot(x) - x.mean() * x.sum()\n",
    "a = ( x.dot(y) - y.mean()*x.sum() ) / denominator\n",
    "b = ( y.mean() * x.dot(x) - x.mean() * x.dot(y) ) / denominator\n",
    "print(a, b)\n",
    "print(\"Time to double:\", np.log(2) / w)"
   ]
  },
  {
   "cell_type": "markdown",
   "metadata": {},
   "source": [
    "# Making a prediction"
   ]
  },
  {
   "cell_type": "code",
   "execution_count": 17,
   "metadata": {},
   "outputs": [],
   "source": [
    "y_hat = model.predict(x).flatten()"
   ]
  },
  {
   "cell_type": "code",
   "execution_count": 19,
   "metadata": {},
   "outputs": [
    {
     "data": {
      "text/plain": [
       "[<matplotlib.lines.Line2D at 0x2a52b636608>]"
      ]
     },
     "execution_count": 19,
     "metadata": {},
     "output_type": "execute_result"
    },
    {
     "data": {
      "image/png": "[encoded data removed]",
      "text/plain": [
       "<Figure size 432x288 with 1 Axes>"
      ]
     },
     "metadata": {
      "needs_background": "light"
     },
     "output_type": "display_data"
    }
   ],
   "source": [
    "plt.scatter(x, y_log)\n",
    "plt.plot(x, y_hat)"
   ]
  },
  {
   "cell_type": "code",
   "execution_count": null,
   "metadata": {},
   "outputs": [],
   "source": []
  }
 ],
 "metadata": {
  "kernelspec": {
   "display_name": "TF2.4_PY3.7",
   "language": "python",
   "name": "tf2.4_py3.7"
  },
  "language_info": {
   "codemirror_mode": {
    "name": "ipython",
    "version": 3
   },
   "file_extension": ".py",
   "mimetype": "text/x-python",
   "name": "python",
   "nbconvert_exporter": "python",
   "pygments_lexer": "ipython3",
   "version": "3.7.10"
  }
 },
 "nbformat": 4,
 "nbformat_minor": 4
}
