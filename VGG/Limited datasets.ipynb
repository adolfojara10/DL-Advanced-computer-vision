{
 "cells": [
  {
   "cell_type": "code",
   "execution_count": null,
   "metadata": {},
   "outputs": [],
   "source": [
    "import os\n",
    "\n",
    "def mkdir(p):\n",
    "  if not os.path.exists(p):\n",
    "    os.mkdir(p)\n",
    "\n",
    "def link(src, dst):\n",
    "  if not os.path.exists(dst):\n",
    "    os.symlink(src, dst, target_is_directory=True)\n",
    "\n",
    "mkdir('../large_files/fruits-360-small')\n",
    "\n",
    "\n",
    "classes = [\n",
    "  'Apple Golden 1',\n",
    "  'Avocado',\n",
    "  'Lemon',\n",
    "  'Mango',\n",
    "  'Kiwi',\n",
    "  'Banana',\n",
    "  'Strawberry',\n",
    "  'Raspberry'\n",
    "]\n",
    "\n",
    "train_path_from = os.path.abspath('../large_files/fruits-360/Training')\n",
    "valid_path_from = os.path.abspath('../large_files/fruits-360/Validation')\n",
    "\n",
    "train_path_to = os.path.abspath('../large_files/fruits-360-small/Training')\n",
    "valid_path_to = os.path.abspath('../large_files/fruits-360-small/Validation')\n",
    "\n",
    "mkdir(train_path_to)\n",
    "mkdir(valid_path_to)\n",
    "\n",
    "\n",
    "for c in classes:\n",
    "  link(train_path_from + '/' + c, train_path_to + '/' + c)\n",
    "  link(valid_path_from + '/' + c, valid_path_to + '/' + c)"
   ]
  }
 ],
 "metadata": {
  "kernelspec": {
   "display_name": "TF2.4_PY3.7",
   "language": "python",
   "name": "tf2.4_py3.7"
  },
  "language_info": {
   "codemirror_mode": {
    "name": "ipython",
    "version": 3
   },
   "file_extension": ".py",
   "mimetype": "text/x-python",
   "name": "python",
   "nbconvert_exporter": "python",
   "pygments_lexer": "ipython3",
   "version": "3.7.10"
  }
 },
 "nbformat": 4,
 "nbformat_minor": 4
}
